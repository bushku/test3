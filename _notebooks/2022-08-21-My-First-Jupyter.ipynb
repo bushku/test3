# My first jupyter notebook

> This is my first tryout.

- toc: true
- badges: true
- comments: true
- categories: [school, AP]
- image: 